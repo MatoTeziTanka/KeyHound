{
  "cells": [
    {
      "cell_type": "markdown",
      "metadata": {},
      "source": [
        "# 🔑 KeyHound Enhanced - Google Colab Integration\n",
        "\n",
        "**Professional Bitcoin cryptography platform optimized for Colab environment**\n",
        "\n",
        "## 🚀 Quick Start\n",
        "1. **Runtime**: Select **T4 GPU** or **A100 GPU** (Colab Pro)\n",
        "2. **Run All Cells**: Click Runtime → Run All\n",
        "3. **Monitor Progress**: Check the dashboard at the end\n",
        "\n",
        "## ⚡ Performance Expectations\n",
        "- **T4 GPU**: ~20,000 keys/second\n",
        "- **A100 GPU**: ~100,000+ keys/second\n",
        "- **CPU Fallback**: ~1,000 keys/second\n"
      ]
    },
    {
      "cell_type": "code",
      "execution_count": null,
      "metadata": {},
      "outputs": [],
      "source": [
        "# 🏗️ Environment Setup & Dependencies\n",
        "print(\"Setting up KeyHound Enhanced for Colab...\")\n",
        "print(\"=\" * 50)\n",
        "\n",
        "import os\n",
        "import sys\n",
        "from pathlib import Path\n",
        "\n",
        "# Mount Google Drive\n",
        "from google.colab import drive\n",
        "drive.mount('/content/drive')\n",
        "print(\"✅ Google Drive mounted\")\n",
        "\n",
        "# Clone repository\n",
        "if not os.path.exists('/content/KeyHound'):\n",
        "    !git clone https://github.com/sethpizzaboy/KeyHound.git\n",
        "    print(\"✅ Repository cloned\")\n",
        "else:\n",
        "    !cd /content/KeyHound && git pull origin main\n",
        "    print(\"✅ Repository updated\")\n",
        "\n",
        "# Change to KeyHound directory\n",
        "os.chdir('/content/KeyHound')\n",
        "sys.path.insert(0, '/content/KeyHound')\n",
        "print(f\"📁 Working directory: {os.getcwd()}\")\n",
        "\n",
        "# Install dependencies\n",
        "!pip install -q -r requirements.txt\n",
        "print(\"✅ Dependencies installed\")\n",
        "\n",
        "# Create Colab-specific directories\n",
        "os.makedirs('/content/KeyHound/data', exist_ok=True)\n",
        "os.makedirs('/content/KeyHound/logs', exist_ok=True)\n",
        "os.makedirs('/content/KeyHound/results', exist_ok=True)\n",
        "print(\"✅ Colab directories created\")\n",
        "\n",
        "print(\"\\n🎉 KeyHound Enhanced ready for Colab!\")\n",
        "print(\"🚀 Next: Run the GPU detection cell below\")\n"
      ]
    }
  ],
  "metadata": {
    "language_info": {
      "name": "python"
    }
  },
  "nbformat": 4,
  "nbformat_minor": 2
}
